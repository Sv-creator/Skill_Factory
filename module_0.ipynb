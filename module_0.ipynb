{
 "cells": [
  {
   "cell_type": "code",
   "execution_count": 1,
   "metadata": {},
   "outputs": [
    {
     "name": "stdout",
     "output_type": "stream",
     "text": [
      "Загадано число от 1 до 100\n",
      "Вы угадали число 61 за 7 попыток.\n"
     ]
    }
   ],
   "source": [
    "import numpy as np\n",
    "count = 0                          # счетчик попыток\n",
    "min_number = 1                       # переменная с минимальным значением диапазона\n",
    "max_number = 100                     # переменная с максимальным значением диапазона\n",
    "number = np.random.randint(1,101)    # загадали число\n",
    "print (\"Загадано число от 1 до 100\")\n",
    "\n",
    "\n",
    "while True:                        \n",
    "    count += 1                     \n",
    "    middle_number = (min_number + max_number)//2  # задаем середину диапазона\n",
    "    if number == middle_number:      \n",
    "        break                        # выход из цикла, если угадали  \n",
    "    elif number > middle_number:  \n",
    "        min_number = middle_number + 1   # новое значение min_number\n",
    "    elif number < middle_number:\n",
    "        max_number = middle_number - 1   # новое значение max_number\n",
    "            \n",
    "print (f\"Вы угадали число {number} за {count} попыток.\")"
   ]
  },
  {
   "cell_type": "code",
   "execution_count": null,
   "metadata": {},
   "outputs": [],
   "source": []
  }
 ],
 "metadata": {
  "kernelspec": {
   "display_name": "Python 3",
   "language": "python",
   "name": "python3"
  },
  "language_info": {
   "codemirror_mode": {
    "name": "ipython",
    "version": 3
   },
   "file_extension": ".py",
   "mimetype": "text/x-python",
   "name": "python",
   "nbconvert_exporter": "python",
   "pygments_lexer": "ipython3",
   "version": "3.7.6"
  }
 },
 "nbformat": 4,
 "nbformat_minor": 4
}
